{
 "cells": [
  {
   "cell_type": "markdown",
   "id": "f944b9f1",
   "metadata": {},
   "source": [
    "# 🚗 Lead Prediction Model Training Example\n",
    "\n",
    "This notebook demonstrates how to train the lead prediction model using the updated `LeadsPredictionTrainer` class.\n",
    "\n",
    "## 📋 Input Data Structure\n",
    "\n",
    "The model expects data with the following required columns:\n",
    "\n",
    "### Required Raw Data Columns:\n",
    "- `leads` (target): Number of leads generated\n",
    "- `views`: Number of ad views\n",
    "- `phone_clicks`: Number of phone clicks\n",
    "- `cd_vehicle_brand`: Vehicle brand code\n",
    "- `year_model`: Model year\n",
    "- `zip_2dig`: First 2 digits of ZIP code\n",
    "- `vl_advertise`: Advertised value\n",
    "- `n_photos`: Number of photos\n",
    "- `km_vehicle`: Vehicle mileage\n",
    "- `vl_market`: Market value\n",
    "- `transmission_type`: Transmission type\n",
    "- `flg_leather_seats`: Leather seats flag\n",
    "- `flg_parking_sensor`: Parking sensor flag\n",
    "- `city_state`: City/State (format: \"City/State\")\n",
    "- `fuel_type`: Fuel type\n",
    "- Feature flags: `flg_gasolina`, `flg_electric_locks`, `flg_air_conditioning`, `flg_electric_windows`, `flg_rear_defogger`, `flg_heater`, `flg_alarm`, `flg_airbag`, `flg_abs`, `flg_alcool`"
   ]
  },
  {
   "cell_type": "code",
   "execution_count": 1,
   "id": "713bd15b",
   "metadata": {},
   "outputs": [],
   "source": [
    "# Import necessary libraries\n",
    "import sys  # System-specific parameters and functions\n",
    "import os   # Operating system interface\n",
    "import pandas as pd  # Data manipulation and analysis library\n",
    "import numpy as np   # Numerical computing library\n",
    "import warnings      # Warning control\n",
    "warnings.filterwarnings('ignore')  # Suppress warning messages\n",
    "\n",
    "# Add project path to system path for module imports\n",
    "sys.path.append(os.path.join(os.path.dirname(os.getcwd()), '..'))\n",
    "\n",
    "# Import necessary classes for model training\n",
    "from src.models.model_trainer import LeadsPredictionTrainer, get_required_columns, create_sample_data\n",
    "from src.data.data_loader import load_raw_data  # Data loading utility\n",
    "from src.features.feature_engineering import PreprocessingFeaturesTransformer, FlagClusteringTransformer  # Feature engineering classes\n",
    "from sklearn.pipeline import Pipeline  # Scikit-learn pipeline for chaining transformers"
   ]
  },
  {
   "cell_type": "markdown",
   "id": "e9578c57",
   "metadata": {},
   "source": [
    "## 📊 1. Check Required Columns"
   ]
  },
  {
   "cell_type": "code",
   "execution_count": 2,
   "id": "f4c19a2a",
   "metadata": {},
   "outputs": [
    {
     "name": "stdout",
     "output_type": "stream",
     "text": [
      "📋 Required columns for the model:\n",
      "   1. leads\n",
      "   2. views\n",
      "   3. phone_clicks\n",
      "   4. cd_vehicle_brand\n",
      "   5. year_model\n",
      "   6. zip_2dig\n",
      "   7. vl_advertise\n",
      "   8. n_photos\n",
      "   9. km_vehicle\n",
      "  10. vl_market\n",
      "  11. transmission_type\n",
      "  12. flg_leather_seats\n",
      "  13. flg_parking_sensor\n",
      "  14. city_state\n",
      "  15. flg_electric_locks\n",
      "  16. flg_air_conditioning\n",
      "  17. flg_electric_windows\n",
      "  18. flg_rear_defogger\n",
      "  19. flg_heater\n",
      "  20. flg_alarm\n",
      "  21. flg_airbag\n",
      "  22. flg_abs\n",
      "  23. fuel_type\n",
      "\n",
      "Total: 23 columns required\n"
     ]
    }
   ],
   "source": [
    "# List required columns\n",
    "required_cols = get_required_columns()\n",
    "\n",
    "print(\"📋 Required columns for the model:\")\n",
    "for i, col in enumerate(required_cols, 1):\n",
    "    print(f\"  {i:2d}. {col}\")\n",
    "\n",
    "print(f\"\\nTotal: {len(required_cols)} columns required\")"
   ]
  },
  {
   "cell_type": "markdown",
   "id": "3dc12357",
   "metadata": {},
   "source": [
    "## 🎯 2. Create Sample Data"
   ]
  },
  {
   "cell_type": "code",
   "execution_count": 3,
   "id": "1075497b",
   "metadata": {},
   "outputs": [],
   "source": [
    "# # Create sample data\n",
    "# sample_data = create_sample_data()\n",
    "# print(\"📊 Sample data structure:\")\n",
    "# print(f\"Shape: {sample_data.shape}\")\n",
    "# print(\"\\n📝 First rows:\")\n",
    "# display(sample_data.head())\n",
    "\n",
    "# print(\"\\n📈 Data info:\")\n",
    "# display(sample_data.info())"
   ]
  },
  {
   "cell_type": "markdown",
   "id": "663e2cc5",
   "metadata": {},
   "source": [
    "## 🔄 3. Load and Process Real Data (Optional)\n",
    "\n",
    "If you have real data, uncomment and run this section:"
   ]
  },
  {
   "cell_type": "code",
   "execution_count": 4,
   "id": "96cf606c",
   "metadata": {},
   "outputs": [
    {
     "name": "stderr",
     "output_type": "stream",
     "text": [
      "2025-08-13 15:15:52,403 - src.data.data_loader - INFO - Successfully loaded 48665 rows from ../../data/raw/raw_data.csv\n"
     ]
    },
    {
     "name": "stdout",
     "output_type": "stream",
     "text": [
      "✅ Real data loaded: (48665, 41)\n",
      "✅ All required columns are present\n",
      "✅ Using real data for training\n"
     ]
    }
   ],
   "source": [
    "# Load real data\n",
    "try:\n",
    "    raw_data = load_raw_data('../../data/raw/raw_data.csv')\n",
    "    print(f\"✅ Real data loaded: {raw_data.shape}\")\n",
    "    \n",
    "    # Check if all required columns are present\n",
    "    missing_cols = set(required_cols) - set(raw_data.columns)\n",
    "    if missing_cols:\n",
    "        print(f\"⚠️ Missing columns: {missing_cols}\")\n",
    "    else:\n",
    "        print(\"✅ All required columns are present\")\n",
    "        # Use real data instead of sample\n",
    "        sample_data = raw_data.copy()\n",
    "        print(\"✅ Using real data for training\")\n",
    "except Exception as e:\n",
    "    print(f\"❌ Error loading real data: {e}\")\n",
    "    print(\"📊 Proceeding with sample data\")"
   ]
  },
  {
   "cell_type": "markdown",
   "id": "4f5ffb06",
   "metadata": {},
   "source": [
    "## 🏗️ 4. Configure Pre-processing Pipeline"
   ]
  },
  {
   "cell_type": "code",
   "execution_count": 5,
   "id": "a237a2a4",
   "metadata": {},
   "outputs": [
    {
     "name": "stdout",
     "output_type": "stream",
     "text": [
      "✅ Preprocessing pipeline configured\n"
     ]
    }
   ],
   "source": [
    "# Features to be removed (based on analysis)\n",
    "feat_to_drop = [\n",
    "    \"cd_type_individual\", \"cd_advertise\", \"cd_client\",\n",
    "    \"flg_rain_sensor\", \"flg_diesel\", \"flg_eletrico\", \"flg_benzina\",\n",
    "    \"flg_pcd\", \"flg_trade_in\", \"flg_armored\", \"flg_factory_warranty\",\n",
    "    \"flg_all_dealership_schedule_vehicle\", \"flg_all_dealership_services\",\n",
    "    \"flg_single_owner\", \"priority\", \"cd_model_vehicle\", \"cd_version_vehicle\",\n",
    "    \"flg_lincese\", \"flg_tax_paid\", \"n_doors\", \"flg_alloy_wheels\", \"flg_gas_natural\"\n",
    "]\n",
    "\n",
    "# Preprocessing pipeline\n",
    "pipeline_pre = Pipeline([\n",
    "    (\n",
    "        \"preprocessing\",\n",
    "        PreprocessingFeaturesTransformer(\n",
    "            location_col=\"city_state\",\n",
    "            fuel_type_column=\"fuel_type\",\n",
    "            cols_to_drop=feat_to_drop,\n",
    "            outlier_columns=[\"vl_advertise\", \"km_vehicle\"],\n",
    "        ),\n",
    "    ),\n",
    "    (\n",
    "        \"feat_engineering\",\n",
    "        FlagClusteringTransformer(\n",
    "            feature_flag_cols=[\n",
    "                \"flg_gasolina\", \"flg_electric_locks\", \"flg_air_conditioning\",\n",
    "                \"flg_electric_windows\", \"flg_rear_defogger\", \"flg_heater\",\n",
    "                \"flg_alarm\", \"flg_airbag\", \"flg_abs\"\n",
    "            ]\n",
    "        ),\n",
    "    ),\n",
    "])\n",
    "\n",
    "print(\"✅ Preprocessing pipeline configured\")"
   ]
  },
  {
   "cell_type": "markdown",
   "id": "1e347238",
   "metadata": {},
   "source": [
    "## 🔄 5. Apply Preprocessing"
   ]
  },
  {
   "cell_type": "code",
   "execution_count": 6,
   "id": "89e71fe3",
   "metadata": {},
   "outputs": [
    {
     "name": "stderr",
     "output_type": "stream",
     "text": [
      "2025-08-13 15:15:55,303 - src.features.feature_engineering - INFO - 📈 Numerical features: 5\n",
      "2025-08-13 15:15:55,304 - src.features.feature_engineering - INFO - 🏷️ Categorical features: 35\n",
      "2025-08-13 15:15:55,305 - src.features.feature_engineering - INFO - 🎯 Target variable: ['flg_leads', 'leads']\n",
      "2025-08-13 15:15:55,305 - src.features.feature_engineering - INFO - Runnig location split...\n",
      "2025-08-13 15:15:56,683 - src.features.feature_engineering - INFO - Converting flag columns to integer type...\n",
      "2025-08-13 15:15:56,877 - src.features.feature_engineering - INFO - Flag columns converted to integer type successfully\n",
      "2025-08-13 15:15:56,879 - src.features.feature_engineering - INFO - Converting fuel type to flag columns...\n",
      "2025-08-13 15:15:56,881 - src.features.feature_engineering - INFO - Found 7 unique fuel types: ['alcool', 'gasolina', 'gas', 'natural', 'diesel', 'eletrico', 'benzina']\n",
      "2025-08-13 15:15:56,985 - src.features.feature_engineering - INFO - Removing duplicate columns...\n",
      "2025-08-13 15:15:56,986 - src.features.feature_engineering - INFO - No duplicate columns found\n",
      "2025-08-13 15:15:57,044 - src.features.feature_engineering - INFO - Cleaning spurious values...\n",
      "2025-08-13 15:15:57,052 - src.features.feature_engineering - WARNING - Found 2 rows with -1 values, removing them\n",
      "2025-08-13 15:15:57,080 - src.features.feature_engineering - INFO - vl_advertise:\n",
      "2025-08-13 15:15:57,080 - src.features.feature_engineering - INFO -   - Lower bound (1.0%): -816139.08 (0 outliers)\n",
      "2025-08-13 15:15:57,080 - src.features.feature_engineering - INFO -   - Upper bound (99.0%): 1115918.46 (49 outliers)\n",
      "2025-08-13 15:15:57,081 - src.features.feature_engineering - INFO -   - Total outliers: 49 (0.10%)\n",
      "2025-08-13 15:15:57,092 - src.features.feature_engineering - INFO -   - Rows removed: 0n\n",
      "2025-08-13 15:15:57,094 - src.features.feature_engineering - INFO - km_vehicle:\n",
      "2025-08-13 15:15:57,095 - src.features.feature_engineering - INFO -   - Lower bound (1.0%): -809841.66 (0 outliers)\n",
      "2025-08-13 15:15:57,095 - src.features.feature_engineering - INFO -   - Upper bound (99.0%): 1079788.88 (67 outliers)\n",
      "2025-08-13 15:15:57,095 - src.features.feature_engineering - INFO -   - Total outliers: 67 (0.14%)\n",
      "2025-08-13 15:15:57,101 - src.features.feature_engineering - INFO -   - Rows removed: 0n\n",
      "2025-08-13 15:15:57,102 - src.features.feature_engineering - INFO - Setting up features...\n",
      "2025-08-13 15:15:57,117 - src.features.feature_engineering - INFO - Feature setup completed successfully\n",
      "2025-08-13 15:15:57,119 - src.features.feature_engineering - INFO - Fitting FlagClusteringTransformer...\n",
      "2025-08-13 15:15:57,120 - src.features.feature_engineering - INFO - Using flag columns: ['flg_gasolina', 'flg_electric_locks', 'flg_air_conditioning', 'flg_electric_windows', 'flg_rear_defogger', 'flg_heater', 'flg_alarm', 'flg_airbag', 'flg_abs']\n",
      "2025-08-13 15:15:57,123 - src.features.feature_engineering - INFO - Processing 9 flag columns: ['flg_gasolina', 'flg_electric_locks', 'flg_air_conditioning', 'flg_electric_windows', 'flg_rear_defogger', 'flg_heater', 'flg_alarm', 'flg_airbag', 'flg_abs']\n",
      "2025-08-13 15:15:57,155 - src.features.feature_engineering - INFO - Grouped data by flag combinations, resulting in 10 unique sum_flags\n",
      "2025-08-13 15:15:57,155 - src.features.feature_engineering - INFO - Flag clustering features created successfully\n",
      "2025-08-13 15:15:57,161 - src.features.feature_engineering - INFO - Fitted Jenks model with 5 clusters\n",
      "2025-08-13 15:15:57,162 - src.features.feature_engineering - INFO - Cluster breaks: [3.2922202603188966, 3.458400781214529, 4.083840620938378, 4.651612903225806, 5.592657725433033, 6.064817476286289]\n",
      "2025-08-13 15:15:57,162 - src.features.feature_engineering - INFO - FlagClusteringTransformer fitted successfully\n",
      "2025-08-13 15:15:57,164 - src.features.feature_engineering - INFO - Using 9 available flag columns: ['flg_gasolina', 'flg_electric_locks', 'flg_air_conditioning', 'flg_electric_windows', 'flg_rear_defogger', 'flg_heater', 'flg_alarm', 'flg_airbag', 'flg_abs']\n",
      "2025-08-13 15:15:57,172 - src.features.feature_engineering - INFO - Dropping columns: ['flg_gasolina', 'flg_electric_locks', 'flg_air_conditioning', 'flg_electric_windows', 'flg_rear_defogger', 'flg_heater', 'flg_alarm', 'flg_airbag', 'flg_abs', 'sum_flags']\n",
      "2025-08-13 15:15:57,175 - src.features.feature_engineering - INFO - Dropped original flag columns and sum_flags\n",
      "2025-08-13 15:15:57,176 - src.features.feature_engineering - INFO - Transformed data with 10 flag columns\n"
     ]
    },
    {
     "name": "stdout",
     "output_type": "stream",
     "text": [
      "📊 Data after preprocessing: (48547, 17)\n",
      "\n",
      "📋 Final columns:\n",
      "['leads', 'views', 'phone_clicks', 'cd_vehicle_brand', 'year_model', 'zip_2dig', 'vl_advertise', 'n_photos', 'km_vehicle', 'vl_market', 'transmission_type', 'flg_leather_seats', 'flg_parking_sensor', 'city', 'state', 'flg_alcool', 'flag_cluster']\n",
      "\n",
      "📝 First rows of processed data:\n"
     ]
    },
    {
     "data": {
      "text/html": [
       "<div>\n",
       "<style scoped>\n",
       "    .dataframe tbody tr th:only-of-type {\n",
       "        vertical-align: middle;\n",
       "    }\n",
       "\n",
       "    .dataframe tbody tr th {\n",
       "        vertical-align: top;\n",
       "    }\n",
       "\n",
       "    .dataframe thead th {\n",
       "        text-align: right;\n",
       "    }\n",
       "</style>\n",
       "<table border=\"1\" class=\"dataframe\">\n",
       "  <thead>\n",
       "    <tr style=\"text-align: right;\">\n",
       "      <th></th>\n",
       "      <th>leads</th>\n",
       "      <th>views</th>\n",
       "      <th>phone_clicks</th>\n",
       "      <th>cd_vehicle_brand</th>\n",
       "      <th>year_model</th>\n",
       "      <th>zip_2dig</th>\n",
       "      <th>vl_advertise</th>\n",
       "      <th>n_photos</th>\n",
       "      <th>km_vehicle</th>\n",
       "      <th>vl_market</th>\n",
       "      <th>transmission_type</th>\n",
       "      <th>flg_leather_seats</th>\n",
       "      <th>flg_parking_sensor</th>\n",
       "      <th>city</th>\n",
       "      <th>state</th>\n",
       "      <th>flg_alcool</th>\n",
       "      <th>flag_cluster</th>\n",
       "    </tr>\n",
       "  </thead>\n",
       "  <tbody>\n",
       "    <tr>\n",
       "      <th>0</th>\n",
       "      <td>1</td>\n",
       "      <td>0</td>\n",
       "      <td>0</td>\n",
       "      <td>34</td>\n",
       "      <td>2018</td>\n",
       "      <td>75</td>\n",
       "      <td>110990.0</td>\n",
       "      <td>7</td>\n",
       "      <td>0</td>\n",
       "      <td>NaN</td>\n",
       "      <td>NaN</td>\n",
       "      <td>0</td>\n",
       "      <td>0</td>\n",
       "      <td>Itumbiara</td>\n",
       "      <td>GO</td>\n",
       "      <td>0</td>\n",
       "      <td>2</td>\n",
       "    </tr>\n",
       "    <tr>\n",
       "      <th>1</th>\n",
       "      <td>1</td>\n",
       "      <td>0</td>\n",
       "      <td>4</td>\n",
       "      <td>2</td>\n",
       "      <td>1996</td>\n",
       "      <td>6</td>\n",
       "      <td>8300.0</td>\n",
       "      <td>0</td>\n",
       "      <td>689815</td>\n",
       "      <td>NaN</td>\n",
       "      <td>manual</td>\n",
       "      <td>0</td>\n",
       "      <td>0</td>\n",
       "      <td>Osasco</td>\n",
       "      <td>SP</td>\n",
       "      <td>1</td>\n",
       "      <td>1</td>\n",
       "    </tr>\n",
       "    <tr>\n",
       "      <th>2</th>\n",
       "      <td>4</td>\n",
       "      <td>0</td>\n",
       "      <td>11</td>\n",
       "      <td>30</td>\n",
       "      <td>2002</td>\n",
       "      <td>2</td>\n",
       "      <td>38800.0</td>\n",
       "      <td>4</td>\n",
       "      <td>33700</td>\n",
       "      <td>NaN</td>\n",
       "      <td>manual</td>\n",
       "      <td>0</td>\n",
       "      <td>0</td>\n",
       "      <td>São Paulo</td>\n",
       "      <td>SP</td>\n",
       "      <td>0</td>\n",
       "      <td>2</td>\n",
       "    </tr>\n",
       "    <tr>\n",
       "      <th>3</th>\n",
       "      <td>12</td>\n",
       "      <td>0</td>\n",
       "      <td>14</td>\n",
       "      <td>10</td>\n",
       "      <td>1995</td>\n",
       "      <td>4</td>\n",
       "      <td>44000.0</td>\n",
       "      <td>8</td>\n",
       "      <td>105000</td>\n",
       "      <td>NaN</td>\n",
       "      <td>automatico</td>\n",
       "      <td>1</td>\n",
       "      <td>0</td>\n",
       "      <td>São Paulo</td>\n",
       "      <td>SP</td>\n",
       "      <td>0</td>\n",
       "      <td>0</td>\n",
       "    </tr>\n",
       "    <tr>\n",
       "      <th>4</th>\n",
       "      <td>8</td>\n",
       "      <td>0</td>\n",
       "      <td>11</td>\n",
       "      <td>12</td>\n",
       "      <td>1995</td>\n",
       "      <td>5</td>\n",
       "      <td>30000.0</td>\n",
       "      <td>6</td>\n",
       "      <td>71240</td>\n",
       "      <td>NaN</td>\n",
       "      <td>automatico</td>\n",
       "      <td>1</td>\n",
       "      <td>0</td>\n",
       "      <td>São Paulo</td>\n",
       "      <td>SP</td>\n",
       "      <td>0</td>\n",
       "      <td>2</td>\n",
       "    </tr>\n",
       "  </tbody>\n",
       "</table>\n",
       "</div>"
      ],
      "text/plain": [
       "   leads  views  phone_clicks  cd_vehicle_brand  year_model  zip_2dig  \\\n",
       "0      1      0             0                34        2018        75   \n",
       "1      1      0             4                 2        1996         6   \n",
       "2      4      0            11                30        2002         2   \n",
       "3     12      0            14                10        1995         4   \n",
       "4      8      0            11                12        1995         5   \n",
       "\n",
       "   vl_advertise  n_photos  km_vehicle  vl_market transmission_type  \\\n",
       "0      110990.0         7           0        NaN               NaN   \n",
       "1        8300.0         0      689815        NaN            manual   \n",
       "2       38800.0         4       33700        NaN            manual   \n",
       "3       44000.0         8      105000        NaN        automatico   \n",
       "4       30000.0         6       71240        NaN        automatico   \n",
       "\n",
       "   flg_leather_seats  flg_parking_sensor       city state  flg_alcool  \\\n",
       "0                  0                   0  Itumbiara    GO           0   \n",
       "1                  0                   0     Osasco    SP           1   \n",
       "2                  0                   0  São Paulo    SP           0   \n",
       "3                  1                   0  São Paulo    SP           0   \n",
       "4                  1                   0  São Paulo    SP           0   \n",
       "\n",
       "   flag_cluster  \n",
       "0             2  \n",
       "1             1  \n",
       "2             2  \n",
       "3             0  \n",
       "4             2  "
      ]
     },
     "metadata": {},
     "output_type": "display_data"
    }
   ],
   "source": [
    "# Apply preprocessing\n",
    "df_processed = pipeline_pre.fit_transform(sample_data)\n",
    "\n",
    "print(f\"📊 Data after preprocessing: {df_processed.shape}\")\n",
    "print(\"\\n📋 Final columns:\")\n",
    "print(list(df_processed.columns))\n",
    "\n",
    "print(\"\\n📝 First rows of processed data:\")\n",
    "display(df_processed.head())"
   ]
  },
  {
   "cell_type": "markdown",
   "id": "1970955c",
   "metadata": {},
   "source": [
    "## 🤖 6. Initialize and Configure Trainer"
   ]
  },
  {
   "cell_type": "code",
   "execution_count": 8,
   "id": "0c11753d",
   "metadata": {},
   "outputs": [
    {
     "name": "stdout",
     "output_type": "stream",
     "text": [
      "📊 Features: (48547, 16)\n",
      "🎯 Target: (48547,)\n",
      "\n",
      "📈 Training data: (38837, 16)\n",
      "📊 Test data: (9710, 16)\n"
     ]
    }
   ],
   "source": [
    "\n",
    "\n",
    "# Initialize trainer\n",
    "trainer = LeadsPredictionTrainer()\n",
    "X, y = trainer.prepare_data(df_processed)\n",
    "print(f\"📊 Features: {X.shape}\")\n",
    "print(f\"🎯 Target: {y.shape}\")\n",
    "\n",
    "X_train, X_test, y_train, y_test = trainer.split_data(X, y)\n",
    "\n",
    "print(f\"\\n📈 Training data: {X_train.shape}\")\n",
    "print(f\"📊 Test data: {X_test.shape}\")"
   ]
  },
  {
   "cell_type": "markdown",
   "id": "cf953ac2",
   "metadata": {},
   "source": [
    "## 📊 7. Calculate Baseline"
   ]
  },
  {
   "cell_type": "code",
   "execution_count": 9,
   "id": "4abe2a41",
   "metadata": {},
   "outputs": [
    {
     "name": "stderr",
     "output_type": "stream",
     "text": [
      "2025-08-13 15:16:34,943 - src.models.model_trainer - INFO - Baseline MSE: 141.3263\n"
     ]
    },
    {
     "name": "stdout",
     "output_type": "stream",
     "text": [
      "📊 Baseline RMSE: 141.326\n"
     ]
    }
   ],
   "source": [
    "# Calculate baseline (mean prediction)\n",
    "baseline_score = trainer.calculate_baseline(y_train)\n",
    "print(f\"📊 Baseline RMSE: {baseline_score:.3f}\")"
   ]
  },
  {
   "cell_type": "markdown",
   "id": "52b90a67",
   "metadata": {},
   "source": [
    "## 🔧 8. Hyperparameter Optimization "
   ]
  },
  {
   "cell_type": "code",
   "execution_count": null,
   "id": "4bd07594",
   "metadata": {},
   "outputs": [
    {
     "name": "stderr",
     "output_type": "stream",
     "text": [
      "[I 2025-08-13 15:16:42,377] A new study created in memory with name: no-name-d1f4d776-6d02-41b9-bb79-5436fe2fda33\n"
     ]
    },
    {
     "name": "stdout",
     "output_type": "stream",
     "text": [
      "🔧 Starting hyperparameter optimization (demo with few trials)...\n"
     ]
    },
    {
     "name": "stderr",
     "output_type": "stream",
     "text": [
      "feature_fraction, val_score: 49.221971:  14%|#4        | 1/7 [00:25<02:30, 25.08s/it][I 2025-08-13 15:17:07,474] Trial 0 finished with value: 49.2219707395011 and parameters: {'feature_fraction': 1.0}. Best is trial 0 with value: 49.2219707395011.\n",
      "feature_fraction, val_score: 48.736742:  29%|##8       | 2/7 [00:48<01:59, 23.83s/it][I 2025-08-13 15:17:30,425] Trial 1 finished with value: 48.736742252324476 and parameters: {'feature_fraction': 0.6}. Best is trial 1 with value: 48.736742252324476.\n",
      "feature_fraction, val_score: 48.736742:  43%|####2     | 3/7 [01:16<01:42, 25.74s/it][I 2025-08-13 15:17:58,430] Trial 2 finished with value: 48.77783596085235 and parameters: {'feature_fraction': 0.5}. Best is trial 1 with value: 48.736742252324476.\n",
      "feature_fraction, val_score: 48.736742:  57%|#####7    | 4/7 [01:39<01:14, 24.68s/it][I 2025-08-13 15:18:21,484] Trial 3 finished with value: 48.99739412243519 and parameters: {'feature_fraction': 0.7}. Best is trial 1 with value: 48.736742252324476.\n",
      "feature_fraction, val_score: 48.026693:  71%|#######1  | 5/7 [02:05<00:50, 25.32s/it][I 2025-08-13 15:18:47,947] Trial 4 finished with value: 48.02669251869388 and parameters: {'feature_fraction': 0.4}. Best is trial 4 with value: 48.02669251869388.\n",
      "feature_fraction, val_score: 48.026693:  86%|########5 | 6/7 [02:27<00:24, 24.34s/it][I 2025-08-13 15:19:10,379] Trial 5 finished with value: 49.1091917093195 and parameters: {'feature_fraction': 0.8999999999999999}. Best is trial 4 with value: 48.02669251869388.\n",
      "feature_fraction, val_score: 48.026693: 100%|##########| 7/7 [02:50<00:00, 23.69s/it][I 2025-08-13 15:19:32,723] Trial 6 finished with value: 48.82288620199116 and parameters: {'feature_fraction': 0.8}. Best is trial 4 with value: 48.02669251869388.\n",
      "feature_fraction, val_score: 48.026693: 100%|##########| 7/7 [02:50<00:00, 24.33s/it]\n",
      "num_leaves, val_score: 48.026693:   5%|5         | 1/20 [00:48<15:30, 48.96s/it][I 2025-08-13 15:20:21,688] Trial 7 finished with value: 49.59058570202378 and parameters: {'num_leaves': 64}. Best is trial 4 with value: 48.02669251869388.\n",
      "num_leaves, val_score: 48.026693:   5%|5         | 1/20 [00:48<15:30, 48.96s/it]"
     ]
    }
   ],
   "source": [
    "# Hyperparameter optimization (few trials for demo)\n",
    "print(\"🔧 Starting hyperparameter optimization (demo with few trials)...\")\n",
    "best_params = trainer.optimize_hyperparameters(\n",
    "    X, y,\n",
    "    X_train, y_train, \n",
    ")\n",
    "print(f\"✅ Best parameters found: {best_params}\")"
   ]
  },
  {
   "cell_type": "markdown",
   "id": "6b2f4d51",
   "metadata": {},
   "source": [
    "## 🎯 9. Train Final Model"
   ]
  },
  {
   "cell_type": "code",
   "execution_count": null,
   "id": "1510bde6",
   "metadata": {},
   "outputs": [],
   "source": [
    "# Train final model with best parameters\n",
    "print(\"🎯 Training final model...\")\n",
    "final_model = trainer.train_final_model(X_train, y_train)\n",
    "print(\"✅ Final model trained successfully!\")"
   ]
  },
  {
   "cell_type": "markdown",
   "id": "e158c602",
   "metadata": {},
   "source": [
    "## 📊 10. Evaluate Performance"
   ]
  },
  {
   "cell_type": "code",
   "execution_count": null,
   "id": "9dc0adc4",
   "metadata": {},
   "outputs": [],
   "source": [
    "# Evaluate model performance\n",
    "results = trainer.evaluate_model(X_test, y_test)\n",
    "print(results)\n",
    "print(\"📊 PERFORMANCE METRICS:\")\n",
    "print(f\"  RMSE: {results['rmse']:.3f}\")\n",
    "print(f\"  R²: {results['r2']:.3f}\")\n",
    "print(f\"  MSE: {results['mse']:.3f}\")\n",
    "\n"
   ]
  },
  {
   "cell_type": "markdown",
   "id": "e5339667",
   "metadata": {},
   "source": [
    "## 🔮 11. Make Predictions with Categorization"
   ]
  },
  {
   "cell_type": "code",
   "execution_count": null,
   "id": "c1c2f9a1",
   "metadata": {},
   "outputs": [],
   "source": [
    "# Make categorized predictions\n",
    "predictions, categories = trainer.predict_with_categories(X_test)\n",
    "\n",
    "# Create results DataFrame\n",
    "\n",
    "results_df = pd.DataFrame({\n",
    "    'Real_Value': y_test.values,\n",
    "    'Prediction': predictions,\n",
    "    'Category': categories,\n",
    "    'Absolute_Error': np.abs(y_test.values - predictions)\n",
    "})\n",
    "\n",
    "print(\"🔮 CATEGORIZED PREDICTIONS:\")\n",
    "print(\"\\nDistribution by category:\")\n",
    "print(results_df['Category'].value_counts().sort_index())\n",
    "\n",
    "print(\"\\nSample predictions:\")\n",
    "display(results_df.head(10))"
   ]
  },
  {
   "cell_type": "markdown",
   "id": "010cf28c",
   "metadata": {},
   "source": [
    "## 💾 12. Save Model"
   ]
  },
  {
   "cell_type": "code",
   "execution_count": null,
   "id": "8563bc19",
   "metadata": {},
   "outputs": [],
   "source": [
    "dir(trainer)"
   ]
  },
  {
   "cell_type": "code",
   "execution_count": null,
   "id": "fe3faab4",
   "metadata": {},
   "outputs": [],
   "source": [
    "# Save model\n",
    "model_path = trainer.save_model(\"../../models/leads_prediction_model_example.joblib\")\n",
    "print(f\"💾 Model saved to: {model_path}\")\n",
    "\n",
    "# Also save in pickle format\n",
    "import pickle\n",
    "pickle_path = \"../../models/leads_prediction_model_example.pkl\" \n",
    "with open(pickle_path, 'wb') as f:\n",
    "    pickle.dump(trainer.trained_model, f)\n",
    "print(f\"💾 Model also saved to: {pickle_path}\")"
   ]
  },
  {
   "cell_type": "markdown",
   "id": "b19c6cb3",
   "metadata": {},
   "source": [
    "## 🎯 13. Usage Example for New Data"
   ]
  },
  {
   "cell_type": "code",
   "execution_count": null,
   "id": "ee8723a4",
   "metadata": {},
   "outputs": [],
   "source": [
    "# Example usage for new data\n",
    "print(\"🎯 USAGE EXAMPLE FOR NEW DATA:\")\n",
    "print(\"\\nTo use the trained model with new data:\")\n",
    "\n",
    "example_code = '''\n",
    "# Load the saved model\n",
    "import joblib\n",
    "model = joblib.load(\"models/leads_prediction_model_example.joblib\")\n",
    "\n",
    "# Prepare new data (must have the same structure)\n",
    "new_data = pd.DataFrame({\n",
    "    'views': [1500],\n",
    "    'phone_clicks': [45], \n",
    "    'cd_vehicle_brand': [150],\n",
    "    'year_model': [2020],\n",
    "    'zip_2dig': [1],\n",
    "    'vl_advertise': [45000],\n",
    "    'n_photos': [12],\n",
    "    'km_vehicle': [25000],\n",
    "    'vl_market': [42000],\n",
    "    'transmission_type': ['Manual'],\n",
    "    'fuel_type': ['Gasoline'],\n",
    "    'city_state': ['São Paulo/SP'],\n",
    "    # ... add all other required columns\n",
    "})\n",
    "\n",
    "# Make prediction\n",
    "prediction = model.predict(new_data)\n",
    "print(f\"Predicted leads: {prediction[0]:.2f}\")\n",
    "\n",
    "# Get business category\n",
    "def categorize_business(lead_count):\n",
    "    if lead_count <= 5: return 'Small Business (0-5)'\n",
    "    elif lead_count <= 15: return 'Growing Business (6-15)'\n",
    "    elif lead_count <= 30: return 'Established Business (16-30)'\n",
    "    else: return 'Enterprise Business (31+)'\n",
    "\n",
    "category = categorize_business(prediction[0])\n",
    "print(f\"Business category: {category}\")\n",
    "'''\n",
    "\n",
    "print(example_code)"
   ]
  }
 ],
 "metadata": {
  "kernelspec": {
   "display_name": "venv",
   "language": "python",
   "name": "python3"
  },
  "language_info": {
   "codemirror_mode": {
    "name": "ipython",
    "version": 3
   },
   "file_extension": ".py",
   "mimetype": "text/x-python",
   "name": "python",
   "nbconvert_exporter": "python",
   "pygments_lexer": "ipython3",
   "version": "3.13.4"
  }
 },
 "nbformat": 4,
 "nbformat_minor": 5
}
