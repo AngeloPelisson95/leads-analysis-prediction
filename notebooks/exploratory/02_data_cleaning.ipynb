{
 "cells": [
  {
   "cell_type": "markdown",
   "id": "11a123a8",
   "metadata": {},
   "source": [
    "# 🧹 Data Cleaning & Preprocessing\n",
    "\n",
    "This notebook handles all data cleaning and preprocessing steps to prepare the dataset for analysis.\n",
    "\n",
    "## 🎯 Objectives\n",
    "- Split composite columns (city_state)\n",
    "- Transform flag columns to proper format\n",
    "- Handle multi-value fuel_type column\n",
    "- Remove duplicates and invalid readings\n",
    "- Create derived features (lead flags)\n",
    "- Save cleaned dataset"
   ]
  },
  {
   "cell_type": "code",
   "execution_count": 14,
   "id": "189bb37e",
   "metadata": {},
   "outputs": [],
   "source": [
    "# Import required libraries\n",
    "import sys\n",
    "import pandas as pd\n",
    "import numpy as np\n",
    "import matplotlib.pyplot as plt\n",
    "import seaborn as sns\n",
    "import warnings\n",
    "warnings.filterwarnings('ignore')\n",
    "import os\n",
    "sys.path.append(os.path.join(os.path.dirname(os.getcwd()), '..'))\n",
    "from src.data.data_loader import load_raw_data, basic_data_info, save_processed_data"
   ]
  },
  {
   "cell_type": "markdown",
   "id": "1cc556d4",
   "metadata": {},
   "source": [
    "## 📊 Load Data"
   ]
  },
  {
   "cell_type": "code",
   "execution_count": 15,
   "id": "ddd81d35",
   "metadata": {},
   "outputs": [
    {
     "name": "stderr",
     "output_type": "stream",
     "text": [
      "2025-08-07 14:07:27,888 - src.data.data_loader - INFO - Successfully loaded 48665 rows from ../../data/raw/raw_data.csv\n"
     ]
    },
    {
     "name": "stdout",
     "output_type": "stream",
     "text": [
      "📊 Original dataset shape: (48665, 41)\n",
      "📋 Original columns: 41\n"
     ]
    }
   ],
   "source": [
    "# Load the raw data\n",
    "df_raw = load_raw_data(file_path='../../data/raw/raw_data.csv')\n",
    "print(f\"📊 Original dataset shape: {df_raw.shape}\")\n",
    "print(f\"📋 Original columns: {len(df_raw.columns)}\")"
   ]
  },
  {
   "cell_type": "markdown",
   "id": "575d91f8",
   "metadata": {},
   "source": [
    "## 🏙️ Step 1: Split City and State"
   ]
  },
  {
   "cell_type": "code",
   "execution_count": 16,
   "id": "83e8b8b3",
   "metadata": {},
   "outputs": [
    {
     "name": "stdout",
     "output_type": "stream",
     "text": [
      "🏙️ Splitting city_state column...\n",
      "Original city_state sample: ['GO_Itumbiara', 'SP_Osasco', 'SP_SÃ£o Paulo']\n",
      "✅ Created 'city' and 'state' columns\n",
      "📊 Unique states: 28\n",
      "🏘️ Unique cities: 959\n",
      "📍 Sample cities: ['Itumbiara', 'Osasco', 'São Paulo', 'São Paulo', 'São Paulo']\n",
      "🗺️ Sample states: ['GO', 'SP', 'RS', 'MG', 'DF', 'RJ', 'PI', 'PA', 'PR', 'SC']\n",
      "✅ Created 'city' and 'state' columns\n",
      "📊 Unique states: 28\n",
      "🏘️ Unique cities: 959\n",
      "📍 Sample cities: ['Itumbiara', 'Osasco', 'São Paulo', 'São Paulo', 'São Paulo']\n",
      "🗺️ Sample states: ['GO', 'SP', 'RS', 'MG', 'DF', 'RJ', 'PI', 'PA', 'PR', 'SC']\n"
     ]
    }
   ],
   "source": [
    "# Create a copy for processing\n",
    "df_processed = df_raw.copy()\n",
    "\n",
    "print(\"🏙️ Splitting city_state column...\")\n",
    "print(f\"Original city_state sample: {df_processed['city_state'].head(3).tolist()}\")\n",
    "\n",
    "# Split city_state into separate city and state columns\n",
    "for _, row in df_processed.iterrows():\n",
    "    str_cs = row['city_state']\n",
    "    cs_ = str_cs.split('_')\n",
    "    df_processed.at[_, \"city\"] = cs_[1].strip()\n",
    "    df_processed.at[_, \"state\"] = cs_[0].strip()\n",
    "\n",
    "# Function to fix encoding issues in text columns\n",
    "def fix_encoding(text):\n",
    "    if isinstance(text, str):\n",
    "        try:\n",
    "            return (\n",
    "                text\n",
    "                .encode('latin1', errors='replace')\n",
    "                .decode('utf-8', errors='replace')\n",
    "            )\n",
    "        except:\n",
    "            return text\n",
    "    return text\n",
    "\n",
    "# Fix encoding issues\n",
    "df_processed['city'] = df_processed['city'].apply(fix_encoding)\n",
    "\n",
    "# Drop the original city_state column\n",
    "df_processed.drop(columns=['city_state'], inplace=True)\n",
    "\n",
    "print(f\"✅ Created 'city' and 'state' columns\")\n",
    "print(f\"📊 Unique states: {df_processed['state'].nunique()}\")\n",
    "print(f\"🏘️ Unique cities: {df_processed['city'].nunique()}\")\n",
    "print(f\"📍 Sample cities: {df_processed['city'].head(5).tolist()}\")\n",
    "print(f\"🗺️ Sample states: {df_processed['state'].unique()[:10].tolist()}\")"
   ]
  },
  {
   "cell_type": "markdown",
   "id": "1c8d6e94",
   "metadata": {},
   "source": [
    "## 🏷️ Step 2: Transform Flag Columns"
   ]
  },
  {
   "cell_type": "code",
   "execution_count": 17,
   "id": "b3dc9575",
   "metadata": {},
   "outputs": [
    {
     "name": "stdout",
     "output_type": "stream",
     "text": [
      "🏷️ Processing flag columns...\n",
      "📊 Found 21 flag columns\n",
      "\n",
      "📋 Sample values in 'flg_single_owner' before transformation:\n",
      "flg_single_owner\n",
      "0    38587\n",
      "1    10078\n",
      "Name: count, dtype: int64\n",
      "\n",
      "📋 Sample values in 'flg_single_owner' after transformation:\n",
      "flg_single_owner\n",
      "0    38587\n",
      "1    10078\n",
      "Name: count, dtype: int64\n",
      "\n",
      "✅ Transformed 21 flag columns to integers\n",
      "\n",
      "📋 Sample values in 'flg_single_owner' after transformation:\n",
      "flg_single_owner\n",
      "0    38587\n",
      "1    10078\n",
      "Name: count, dtype: int64\n",
      "\n",
      "✅ Transformed 21 flag columns to integers\n"
     ]
    }
   ],
   "source": [
    "print(\"🏷️ Processing flag columns...\")\n",
    "\n",
    "# Find all flag columns\n",
    "flag_columns = [col for col in df_processed.columns if col.startswith(\"flg_\")]\n",
    "print(f\"📊 Found {len(flag_columns)} flag columns\")\n",
    "\n",
    "# Show sample values before transformation\n",
    "if flag_columns:\n",
    "    sample_col = flag_columns[0]\n",
    "    print(f\"\\n📋 Sample values in '{sample_col}' before transformation:\")\n",
    "    print(df_processed[sample_col].value_counts())\n",
    "\n",
    "# Transform flag columns\n",
    "for col in flag_columns:\n",
    "    df_processed[col] = df_processed[col].fillna(0)\n",
    "    df_processed[col] = df_processed[col].replace({\"S\": \"Y\"}).replace({\"Y\": 1, \"N\": 0}).astype(int)\n",
    "\n",
    "# Show sample values after transformation\n",
    "if flag_columns:\n",
    "    print(f\"\\n📋 Sample values in '{sample_col}' after transformation:\")\n",
    "    print(df_processed[sample_col].value_counts())\n",
    "\n",
    "print(f\"\\n✅ Transformed {len(flag_columns)} flag columns to integers\")"
   ]
  },
  {
   "cell_type": "markdown",
   "id": "9a2d44f7",
   "metadata": {},
   "source": [
    "## ⛽ Step 3: Handle Fuel Type Multi-Values"
   ]
  },
  {
   "cell_type": "markdown",
   "id": "88294c22",
   "metadata": {},
   "source": [
    "## 🗑️ Step 4: Remove Duplicates"
   ]
  },
  {
   "cell_type": "code",
   "execution_count": 18,
   "id": "89ad4a09",
   "metadata": {},
   "outputs": [
    {
     "name": "stdout",
     "output_type": "stream",
     "text": [
      "🗑️ Removing duplicate rows...\n",
      "📊 Original shape: (48665, 42)\n",
      "📊 New shape: (48665, 42)\n",
      "🗑️ Duplicates removed: 0 rows (0.00%)\n",
      "📊 Original shape: (48665, 42)\n",
      "📊 New shape: (48665, 42)\n",
      "🗑️ Duplicates removed: 0 rows (0.00%)\n"
     ]
    }
   ],
   "source": [
    "print(\"🗑️ Removing duplicate rows...\")\n",
    "original_shape = df_processed.shape\n",
    "df_processed = df_processed.drop_duplicates().reset_index(drop=True)\n",
    "new_shape = df_processed.shape\n",
    "\n",
    "duplicates_removed = original_shape[0] - new_shape[0]\n",
    "print(f\"📊 Original shape: {original_shape}\")\n",
    "print(f\"📊 New shape: {new_shape}\")\n",
    "print(f\"🗑️ Duplicates removed: {duplicates_removed:,} rows ({duplicates_removed/original_shape[0]*100:.2f}%)\")"
   ]
  },
  {
   "cell_type": "markdown",
   "id": "2b90422a",
   "metadata": {},
   "source": [
    "## 🧹 Step 5: Clean Spurious Readings"
   ]
  },
  {
   "cell_type": "code",
   "execution_count": 19,
   "id": "2b85465e",
   "metadata": {},
   "outputs": [
    {
     "name": "stdout",
     "output_type": "stream",
     "text": [
      "🧹 Cleaning spurious readings (-1 values)...\n",
      "📊 Rows with -1 values: 2 (0.00%)\n",
      "📊 Original shape: (48665, 42)\n",
      "📊 New shape: (48663, 42)\n",
      "🗑️ Spurious readings removed: 2 rows (0.00%)\n",
      "📊 Original shape: (48665, 42)\n",
      "📊 New shape: (48663, 42)\n",
      "🗑️ Spurious readings removed: 2 rows (0.00%)\n"
     ]
    }
   ],
   "source": [
    "print(\"🧹 Cleaning spurious readings (-1 values)...\")\n",
    "original_shape = df_processed.shape\n",
    "\n",
    "# Check how many rows have -1 values\n",
    "rows_with_minus_one = (df_processed == -1).any(axis=1).sum()\n",
    "print(f\"📊 Rows with -1 values: {rows_with_minus_one:,} ({rows_with_minus_one/len(df_processed)*100:.2f}%)\")\n",
    "\n",
    "# Remove rows with -1 values\n",
    "df_processed = df_processed[~(df_processed == -1).any(axis=1)].reset_index(drop=True)\n",
    "new_shape = df_processed.shape\n",
    "\n",
    "spurious_removed = original_shape[0] - new_shape[0]\n",
    "print(f\"📊 Original shape: {original_shape}\")\n",
    "print(f\"📊 New shape: {new_shape}\")\n",
    "print(f\"🗑️ Spurious readings removed: {spurious_removed:,} rows ({spurious_removed/original_shape[0]*100:.2f}%)\")"
   ]
  },
  {
   "cell_type": "markdown",
   "id": "8f912ab5",
   "metadata": {},
   "source": [
    "## 🎯 Step 6: Create Lead Flag Column"
   ]
  },
  {
   "cell_type": "code",
   "execution_count": 20,
   "id": "5d2c4b51",
   "metadata": {},
   "outputs": [
    {
     "name": "stdout",
     "output_type": "stream",
     "text": [
      "🎯 Creating lead flag column...\n",
      "\n",
      "📊 Lead Flag Distribution:\n",
      "  - No leads (0): 21.9%\n",
      "  - Has leads (1): 78.1%\n",
      "\n",
      "📈 Original 'leads' column statistics:\n",
      "  - Mean: 4.42\n",
      "  - Median: 1.00\n",
      "  - Max: 364\n",
      "  - Min: 0\n",
      "\n",
      "✅ Created 'flg_leads' binary column\n",
      "  - Median: 1.00\n",
      "  - Max: 364\n",
      "  - Min: 0\n",
      "\n",
      "✅ Created 'flg_leads' binary column\n"
     ]
    }
   ],
   "source": [
    "print(\"🎯 Creating lead flag column...\")\n",
    "\n",
    "# Create binary lead flag\n",
    "df_processed['flg_leads'] = df_processed['leads'].apply(lambda x: 1 if x > 0 else 0)\n",
    "\n",
    "# Analyze the target distribution\n",
    "lead_distribution = df_processed['flg_leads'].value_counts(normalize=True)\n",
    "print(f\"\\n📊 Lead Flag Distribution:\")\n",
    "print(f\"  - No leads (0): {lead_distribution[0]:.1%}\")\n",
    "print(f\"  - Has leads (1): {lead_distribution[1]:.1%}\")\n",
    "\n",
    "# Original leads distribution\n",
    "print(f\"\\n📈 Original 'leads' column statistics:\")\n",
    "print(f\"  - Mean: {df_processed['leads'].mean():.2f}\")\n",
    "print(f\"  - Median: {df_processed['leads'].median():.2f}\")\n",
    "print(f\"  - Max: {df_processed['leads'].max()}\")\n",
    "print(f\"  - Min: {df_processed['leads'].min()}\")\n",
    "\n",
    "print(f\"\\n✅ Created 'flg_leads' binary column\")"
   ]
  },
  {
   "cell_type": "markdown",
   "id": "5751a920",
   "metadata": {},
   "source": [
    "## Step 7: Outlier Treatment"
   ]
  },
  {
   "cell_type": "code",
   "execution_count": 21,
   "id": "3da062fb",
   "metadata": {},
   "outputs": [
    {
     "name": "stdout",
     "output_type": "stream",
     "text": [
      "🧹 Outlier Analysis and Removal:\n",
      "Original dataset shape: (48663, 43)\n",
      "\n",
      "Outlier statistics by feature:\n",
      "vl_advertise:\n",
      "  - Lower bound (1.0%): -816139.08 (0 outliers)\n",
      "  - Upper bound (99.0%): 1217024.66 (46 outliers)\n",
      "  - Total outliers: 46 (0.09%)\n",
      "  - Rows removed: 46\n",
      "\n",
      "km_vehicle:\n",
      "  - Lower bound (1.0%): -810000.00 (0 outliers)\n",
      "  - Upper bound (99.0%): 1809999.00 (39 outliers)\n",
      "  - Total outliers: 39 (0.08%)\n",
      "  - Rows removed: 85\n",
      "\n",
      "\n",
      "📊 After outlier removal:\n",
      "New dataset shape: (48578, 43)\n",
      "Rows removed: 85 (0.17%)\n"
     ]
    }
   ],
   "source": [
    "### Outlier Treatment\n",
    "def remove_outliers_iqr(df, columns, lower_percentile=0.01, upper_percentile=0.99, k=3):\n",
    "    \"\"\"Remove outliers using percentile-based approach\"\"\"\n",
    "    df_processed_outliers = df.copy()\n",
    "    \n",
    "    for col in columns:\n",
    "        q_low = df[col].quantile(lower_percentile)\n",
    "        q_high = df[col].quantile(upper_percentile)\n",
    "        q1 = df[col].quantile(0.01)\n",
    "        q3 = df[col].quantile(0.995)\n",
    "        iqr = q_high - q_low\n",
    "        lower = q1 - k * iqr\n",
    "        upper = q3 + k * iqr\n",
    "        outliers_low = (df_processed_outliers[col] < lower).sum()\n",
    "        outliers_high = (df_processed_outliers[col] > upper).sum()\n",
    "        total_outliers = outliers_low + outliers_high\n",
    "        \n",
    "        print(f\"{col}:\")\n",
    "        print(f\"  - Lower bound ({lower_percentile:.1%}): {lower:.2f} ({outliers_low} outliers)\")\n",
    "        print(f\"  - Upper bound ({upper_percentile:.1%}): {upper:.2f} ({outliers_high} outliers)\")\n",
    "        print(f\"  - Total outliers: {total_outliers} ({total_outliers/len(df)*100:.2f}%)\")\n",
    "        \n",
    "        df_processed_outliers = df_processed_outliers[\n",
    "            (df_processed_outliers[col] >= lower) & (df_processed_outliers[col] <= upper)\n",
    "        ]\n",
    "        print(f\"  - Rows removed: {len(df) - len(df_processed_outliers)}\\n\")\n",
    "        \n",
    "    return df_processed_outliers\n",
    "\n",
    "print(\"🧹 Outlier Analysis and Removal:\")\n",
    "print(f\"Original dataset shape: {df_processed.shape}\")\n",
    "print(\"\\nOutlier statistics by feature:\")\n",
    "\n",
    "df_no_outliers = remove_outliers_iqr(df_processed, [\"vl_advertise\", \"km_vehicle\"])\n",
    "\n",
    "print(f\"\\n📊 After outlier removal:\")\n",
    "print(f\"New dataset shape: {df_no_outliers.shape}\")\n",
    "outliers_removed = len(df_processed) - len(df_no_outliers)\n",
    "print(f\"Rows removed: {outliers_removed:,} ({outliers_removed/len(df_processed)*100:.2f}%)\")"
   ]
  },
  {
   "cell_type": "code",
   "execution_count": 22,
   "id": "800361c2",
   "metadata": {},
   "outputs": [
    {
     "data": {
      "image/png": "[encoded data removed]",
      "text/plain": [
       "<Figure size 1200x800 with 6 Axes>"
      ]
     },
     "metadata": {},
     "output_type": "display_data"
    },
    {
     "name": "stdout",
     "output_type": "stream",
     "text": [
      "✅ Updated main dataset with outlier removal: (48578, 43)\n"
     ]
    }
   ],
   "source": [
    "\n",
    "# Compare distributions before and after outlier removal\n",
    "numeric_cols = [\n",
    " 'vl_advertise',\n",
    " 'km_vehicle',\n",
    " 'vl_market',\n",
    " ]\n",
    "n_features = len(numeric_cols)\n",
    "fig, axes = plt.subplots(2, n_features, figsize=(4*n_features, 8))\n",
    "if n_features == 1:\n",
    "    axes = axes.reshape(2, 1)\n",
    "\n",
    "for i, col in enumerate(numeric_cols):\n",
    "    # Before outlier removal\n",
    "    sns.boxplot(data=df_processed, x=col, ax=axes[0, i])\n",
    "    axes[0, i].set_title(f'{col} - Before Outlier Removal')\n",
    "    \n",
    "    # After outlier removal\n",
    "    sns.boxplot(data=df_no_outliers, x=col, ax=axes[1, i])\n",
    "    axes[1, i].set_title(f'{col} - After Outlier Removal')\n",
    "\n",
    "plt.suptitle('Comparison: Before vs After Outlier Removal', fontsize=16, y=1.02)\n",
    "plt.tight_layout()\n",
    "plt.show()\n",
    "\n",
    "# Update the main dataset\n",
    "df_processed = df_no_outliers.copy()\n",
    "print(f\"✅ Updated main dataset with outlier removal: {df_processed.shape}\")"
   ]
  },
  {
   "cell_type": "markdown",
   "id": "e6c9fb20",
   "metadata": {},
   "source": [
    "## Step 8: Fuel type expansion into binary flags"
   ]
  },
  {
   "cell_type": "code",
   "execution_count": 23,
   "id": "ff9d85d0",
   "metadata": {},
   "outputs": [
    {
     "name": "stdout",
     "output_type": "stream",
     "text": [
      "⛽ Processing fuel_type column...\n",
      "📊 Original fuel_type unique values:\n",
      "  - 'nan'\n",
      "  - 'alcool'\n",
      "  - 'gasolina'\n",
      "  - 'gasolina e alcool'\n",
      "  - 'gasolina e gas natural'\n",
      "  - 'diesel'\n",
      "  - 'gasolina, alcool e gas natural'\n",
      "  - 'gas natural'\n",
      "  - 'alcool e gas natural'\n",
      "  - 'gasolina e eletrico'\n",
      "  ... and 1 more\n",
      "\n",
      "🔍 Extracted fuel types: ['alcool', 'gasolina', 'gas', 'natural', 'diesel', 'eletrico', 'benzina']\n",
      "🔧 Final fuel types: ['alcool', 'gasolina', 'diesel', 'eletrico', 'benzina', 'gas natural']\n",
      "\n",
      "🏗️ Creating flag columns for each fuel type...\n",
      "  - flg_alcool: 35,504 ads (73.1%)\n",
      "  - flg_gasolina: 45,736 ads (94.1%)\n",
      "  - flg_diesel: 2,677 ads (5.5%)\n",
      "  - flg_eletrico: 28 ads (0.1%)\n",
      "  - flg_benzina: 8 ads (0.0%)\n",
      "  - flg_gas_natural: 313 ads (0.6%)\n",
      "\n",
      "✅ Created 6 fuel type flag columns and removed original fuel_type\n"
     ]
    }
   ],
   "source": [
    "print(\"⛽ Processing fuel_type column...\")\n",
    "print(f\"📊 Original fuel_type unique values:\")\n",
    "unique_fuel_types = df_processed.fuel_type.unique()\n",
    "for fuel in unique_fuel_types[:10]:  # Show first 10\n",
    "    print(f\"  - '{fuel}'\")\n",
    "if len(unique_fuel_types) > 10:\n",
    "    print(f\"  ... and {len(unique_fuel_types) - 10} more\")\n",
    "\n",
    "# Extract all unique fuel types from the multi-value strings\n",
    "fuel_types = []\n",
    "for item in df_processed.fuel_type.unique():\n",
    "    if isinstance(item, str):  # check if item is a string\n",
    "        # Split the string by spaces and commas, and strip any whitespace\n",
    "        str_lst = item.split(' ')\n",
    "        for i in range(len(str_lst)):\n",
    "            str_lst[i] = str_lst[i].strip().replace(',', '')  # remove commas\n",
    "            if str_lst[i] != 'e':  # check if the item is not 'e'\n",
    "                if str_lst[i] not in fuel_types:  # check if the item is not already in the list\n",
    "                    fuel_types.append(str_lst[i])\n",
    "\n",
    "print(f\"\\n🔍 Extracted fuel types: {fuel_types}\")\n",
    "\n",
    "# Fix the 'natural' and 'gas' to be 'gas natural'\n",
    "if 'natural' in fuel_types and 'gas' in fuel_types:\n",
    "    fuel_types.remove('natural')\n",
    "    fuel_types.remove('gas')\n",
    "    fuel_types.append('gas natural')\n",
    "\n",
    "print(f\"🔧 Final fuel types: {fuel_types}\")\n",
    "\n",
    "# Fill NaN values with empty string to avoid errors\n",
    "df_processed['fuel_type'] = df_processed['fuel_type'].fillna('')\n",
    "\n",
    "# Create new flag columns for each fuel type\n",
    "print(f\"\\n🏗️ Creating flag columns for each fuel type...\")\n",
    "for fuel in fuel_types:\n",
    "    col_name = f\"flg_{fuel.replace(' ', '_')}\"\n",
    "    df_processed[col_name] = df_processed['fuel_type'].apply(\n",
    "        lambda x: 1 if fuel in x else 0 if x == '' else 0\n",
    "    )\n",
    "    fuel_count = df_processed[col_name].sum()\n",
    "    fuel_pct = (fuel_count / len(df_processed)) * 100\n",
    "    print(f\"  - {col_name}: {fuel_count:,} ads ({fuel_pct:.1f}%)\")\n",
    "\n",
    "# Drop the original fuel_type column\n",
    "df_processed.drop(columns=['fuel_type'], inplace=True)\n",
    "print(f\"\\n✅ Created {len(fuel_types)} fuel type flag columns and removed original fuel_type\")"
   ]
  },
  {
   "cell_type": "markdown",
   "id": "b12a7b86",
   "metadata": {},
   "source": [
    "## 📊 Step 9: Final Data Summary"
   ]
  },
  {
   "cell_type": "code",
   "execution_count": 24,
   "id": "9e479696",
   "metadata": {},
   "outputs": [
    {
     "name": "stdout",
     "output_type": "stream",
     "text": [
      "📊 Final Cleaned Dataset Summary:\n",
      "\n",
      "📐 Final shape: (48578, 48)\n",
      "📋 Total columns: 48\n",
      "\n",
      "🏷️ Column Categories:\n",
      "  - Flag columns (flg_): 28\n",
      "  - Code columns (cd_): 6\n",
      "  - Value columns (vl_): 2\n",
      "  - Numeric columns: 11\n",
      "  - Text columns: 3\n",
      "\n",
      "🕳️ Total missing values: 6177\n",
      "💾 Memory usage: 26,669,079 bytes (25.4 MB)\n"
     ]
    }
   ],
   "source": [
    "print(\"📊 Final Cleaned Dataset Summary:\")\n",
    "print(f\"\\n📐 Final shape: {df_processed.shape}\")\n",
    "print(f\"📋 Total columns: {len(df_processed.columns)}\")\n",
    "\n",
    "# Categorize columns\n",
    "flag_cols = [col for col in df_processed.columns if col.startswith('flg_')]\n",
    "code_cols = [col for col in df_processed.columns if col.startswith('cd_')]\n",
    "value_cols = [col for col in df_processed.columns if col.startswith('vl_')]\n",
    "numeric_cols = [col for col in df_processed.columns if df_processed[col].dtype in ['int64', 'float64'] and not col.startswith(('flg_', 'cd_'))]\n",
    "text_cols = [col for col in df_processed.columns if df_processed[col].dtype == 'object']\n",
    "\n",
    "print(f\"\\n🏷️ Column Categories:\")\n",
    "print(f\"  - Flag columns (flg_): {len(flag_cols)}\")\n",
    "print(f\"  - Code columns (cd_): {len(code_cols)}\")\n",
    "print(f\"  - Value columns (vl_): {len(value_cols)}\")\n",
    "print(f\"  - Numeric columns: {len(numeric_cols)}\")\n",
    "print(f\"  - Text columns: {len(text_cols)}\")\n",
    "\n",
    "# Check for missing values\n",
    "missing_values = df_processed.isnull().sum().sum()\n",
    "print(f\"\\n🕳️ Total missing values: {missing_values}\")\n",
    "\n",
    "# Memory usage\n",
    "memory_usage = df_processed.memory_usage(deep=True).sum()\n",
    "print(f\"💾 Memory usage: {memory_usage:,} bytes ({memory_usage/1024/1024:.1f} MB)\")"
   ]
  },
  {
   "cell_type": "markdown",
   "id": "b896044f",
   "metadata": {},
   "source": [
    "## 💾 Step 10: Save Cleaned Data"
   ]
  },
  {
   "cell_type": "code",
   "execution_count": 25,
   "id": "3094b5fd",
   "metadata": {},
   "outputs": [
    {
     "name": "stdout",
     "output_type": "stream",
     "text": [
      "💾 Saving cleaned dataset to: ../../data/processed/cleaned_data.csv\n"
     ]
    },
    {
     "name": "stderr",
     "output_type": "stream",
     "text": [
      "2025-08-07 14:07:31,434 - src.data.data_loader - INFO - Successfully saved 48578 rows to ../../data/processed/cleaned_data.csv\n"
     ]
    },
    {
     "name": "stdout",
     "output_type": "stream",
     "text": [
      "✅ Successfully saved cleaned dataset\n",
      "📊 Saved shape: (48578, 48)\n"
     ]
    }
   ],
   "source": [
    "# Save the cleaned dataset\n",
    "output_path = '../../data/processed/cleaned_data.csv'\n",
    "print(f\"💾 Saving cleaned dataset to: {output_path}\")\n",
    "\n",
    "try:\n",
    "    save_processed_data(df_processed, output_path)\n",
    "    print(f\"✅ Successfully saved cleaned dataset\")\n",
    "    print(f\"📊 Saved shape: {df_processed.shape}\")\n",
    "except Exception as e:\n",
    "    print(f\"❌ Error saving dataset: {e}\")\n",
    "    # Alternative save method\n",
    "    df_processed.to_csv(output_path, index=False)\n",
    "    print(f\"✅ Saved using alternative method\")"
   ]
  },
  {
   "cell_type": "markdown",
   "id": "f1688f4c",
   "metadata": {},
   "source": [
    "## 📋 Cleaning Summary Report"
   ]
  },
  {
   "cell_type": "code",
   "execution_count": 26,
   "id": "d990fe35",
   "metadata": {},
   "outputs": [
    {
     "name": "stdout",
     "output_type": "stream",
     "text": [
      "📋 DATA CLEANING SUMMARY REPORT\n",
      "==================================================\n",
      "\n",
      "📊 DATA VOLUME:\n",
      "  - Original rows: 48,665\n",
      "  - Final rows: 48,578\n",
      "  - Rows removed: 87 (0.18%)\n",
      "  - Original columns: 41\n",
      "  - Final columns: 48\n",
      "\n",
      "🔧 TRANSFORMATIONS APPLIED:\n",
      "  ✅ Split city_state into city and state columns\n",
      "  ✅ Converted 28 flag columns to integers\n",
      "  ✅ Expanded fuel_type into 6 fuel flag columns\n",
      "  ✅ Removed 0 duplicate rows\n",
      "  ✅ Cleaned 2 rows with spurious readings\n",
      "  ✅ Created binary lead flag column\n",
      "\n",
      "🎯 TARGET VARIABLE:\n",
      "  - Ads with leads: 37,967 (78.2%)\n",
      "  - Ads without leads: 10,611 (21.8%)\n",
      "\n",
      "✅ DATASET READY FOR ANALYSIS\n",
      "📁 Saved to: ../../data/processed/cleaned_data.csv\n"
     ]
    }
   ],
   "source": [
    "print(\"📋 DATA CLEANING SUMMARY REPORT\")\n",
    "print(\"=\" * 50)\n",
    "\n",
    "# Calculate total data reduction\n",
    "original_rows = df_raw.shape[0]\n",
    "final_rows = df_processed.shape[0]\n",
    "total_reduction = original_rows - final_rows\n",
    "reduction_pct = (total_reduction / original_rows) * 100\n",
    "\n",
    "print(f\"\\n📊 DATA VOLUME:\")\n",
    "print(f\"  - Original rows: {original_rows:,}\")\n",
    "print(f\"  - Final rows: {final_rows:,}\")\n",
    "print(f\"  - Rows removed: {total_reduction:,} ({reduction_pct:.2f}%)\")\n",
    "print(f\"  - Original columns: {df_raw.shape[1]}\")\n",
    "print(f\"  - Final columns: {df_processed.shape[1]}\")\n",
    "\n",
    "print(f\"\\n🔧 TRANSFORMATIONS APPLIED:\")\n",
    "print(f\"  ✅ Split city_state into city and state columns\")\n",
    "print(f\"  ✅ Converted {len(flag_cols)} flag columns to integers\")\n",
    "print(f\"  ✅ Expanded fuel_type into {len([c for c in flag_cols if 'fuel' in c or any(fuel in c for fuel in ['alcool', 'gasolina', 'diesel', 'eletrico', 'benzina', 'gas_natural'])])} fuel flag columns\")\n",
    "print(f\"  ✅ Removed {duplicates_removed:,} duplicate rows\")\n",
    "print(f\"  ✅ Cleaned {spurious_removed:,} rows with spurious readings\")\n",
    "print(f\"  ✅ Created binary lead flag column\")\n",
    "\n",
    "print(f\"\\n🎯 TARGET VARIABLE:\")\n",
    "print(f\"  - Ads with leads: {df_processed['flg_leads'].sum():,} ({df_processed['flg_leads'].mean():.1%})\")\n",
    "print(f\"  - Ads without leads: {(df_processed['flg_leads'] == 0).sum():,} ({(df_processed['flg_leads'] == 0).mean():.1%})\")\n",
    "\n",
    "print(f\"\\n✅ DATASET READY FOR ANALYSIS\")\n",
    "print(f\"📁 Saved to: {output_path}\")"
   ]
  }
 ],
 "metadata": {
  "kernelspec": {
   "display_name": "venv",
   "language": "python",
   "name": "python3"
  },
  "language_info": {
   "codemirror_mode": {
    "name": "ipython",
    "version": 3
   },
   "file_extension": ".py",
   "mimetype": "text/x-python",
   "name": "python",
   "nbconvert_exporter": "python",
   "pygments_lexer": "ipython3",
   "version": "3.13.4"
  }
 },
 "nbformat": 4,
 "nbformat_minor": 5
}
